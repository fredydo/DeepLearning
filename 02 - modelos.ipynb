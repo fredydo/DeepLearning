{
 "cells": [
  {
   "cell_type": "code",
   "execution_count": null,
   "metadata": {},
   "outputs": [],
   "source": [
    "import pandas as pd\n",
    "from datetime import datetime\n",
    "import tensorflow as tf\n",
    "import numpy as np"
   ]
  },
  {
   "cell_type": "code",
   "execution_count": null,
   "metadata": {},
   "outputs": [],
   "source": [
    "credits = pd.read_csv('the-movies-dataset/credits.csv')\n",
    "keywords = pd.read_csv('the-movies-dataset/keywords.csv')\n",
    "movies = pd.read_csv('the-movies-dataset/movies_metadata.csv', low_memory=False).\\\n",
    "    drop(['belongs_to_collection', 'homepage', 'imdb_id', 'poster_path', 'status', 'title', 'video'], axis=1)\n",
    "\n",
    "movies['id'] = movies['id'].apply(pd.to_numeric, errors='coerce')\n",
    "movies.dropna(inplace=True)\n",
    "movies['id'] = movies['id'].astype('int64')\n",
    "\n",
    "df = movies.merge(keywords, on='id').merge(credits, on='id')\n",
    "\n",
    "df['original_language'] = df['original_language'].fillna('')\n",
    "df['runtime'] = df['runtime'].fillna(0)\n",
    "df['tagline'] = df['tagline'].fillna('')\n",
    "\n",
    "df.dropna(inplace=True)"
   ]
  },
  {
   "cell_type": "code",
   "execution_count": null,
   "metadata": {},
   "outputs": [],
   "source": [
    "def get_text(text, obj='name'):\n",
    "    text = eval(text)\n",
    "    \n",
    "    if len(text) == 1:\n",
    "        for i in text:\n",
    "            return i[obj]\n",
    "    else:\n",
    "        s = []\n",
    "        for i in text:\n",
    "            s.append(i[obj])\n",
    "        return ', '.join(s)\n",
    "\n",
    "df['genres'] = df['genres'].apply(get_text)\n",
    "df['production_companies'] = df['production_companies'].apply(get_text)\n",
    "df['production_countries'] = df['production_countries'].apply(get_text)\n",
    "df['crew'] = df['crew'].apply(get_text)\n",
    "df['spoken_languages'] = df['spoken_languages'].apply(get_text)\n",
    "df['keywords'] = df['keywords'].apply(get_text)\n",
    "\n",
    "# New columns\n",
    "df['characters'] = df['cast'].apply(get_text, obj='character')\n",
    "df['actors'] = df['cast'].apply(get_text)\n",
    "\n",
    "df.drop('cast', axis=1, inplace=True)\n",
    "df = df[~df['original_title'].duplicated()]\n",
    "df = df.reset_index(drop=True)"
   ]
  },
  {
   "cell_type": "code",
   "execution_count": null,
   "metadata": {},
   "outputs": [],
   "source": [
    "ratings_df = pd.read_csv('the-movies-dataset/ratings.csv')\n",
    "ratings_df.sample(5)\n",
    "\n",
    "ratings_df['date'] = ratings_df['timestamp'].apply(lambda x: datetime.fromtimestamp(x))\n",
    "ratings_df.drop('timestamp', axis=1, inplace=True)\n",
    "\n",
    "ratings_df = ratings_df.merge(df[['id', 'original_title', 'genres', 'overview']], left_on='movieId',right_on='id', how='left')\n",
    "ratings_df = ratings_df[~ratings_df['id'].isna()]\n",
    "ratings_df.drop('id', axis=1, inplace=True)\n",
    "ratings_df.reset_index(drop=True, inplace=True)\n",
    "ratings_df.sample(5)"
   ]
  },
  {
   "cell_type": "code",
   "execution_count": null,
   "metadata": {},
   "outputs": [],
   "source": [
    "movies_df = df.loc[:, ['id', 'original_title', 'genres', 'overview', 'production_companies', 'actors']]\n",
    "movies_df.rename(columns={'id':'movieId'}, inplace=True)\n",
    "movies_df.sample(5)"
   ]
  },
  {
   "cell_type": "code",
   "execution_count": null,
   "metadata": {},
   "outputs": [],
   "source": [
    "from sklearn.preprocessing import LabelEncoder\n",
    "\n",
    "user_encoder = LabelEncoder()\n",
    "mvoie_encoder = LabelEncoder()\n",
    "\n",
    "ratings_df['userId'] = user_encoder.fit_transform(ratings_df['userId'])\n",
    "ratings_df['movieId'] = mvoie_encoder.fit_transform(ratings_df['movieId'])\n",
    "\n",
    "ratings_df"
   ]
  },
  {
   "cell_type": "code",
   "execution_count": null,
   "metadata": {},
   "outputs": [],
   "source": [
    "min_movie_ratings = 10000\n",
    "filter_movies = (ratings_df.groupby('movieId')['rating'].sum()>min_movie_ratings)\n",
    "filter_movies = filter_movies[filter_movies].index.tolist()\n",
    "\n",
    "min_user_ratings = 200\n",
    "filter_users = (ratings_df.groupby('userId')['rating'].sum()>min_user_ratings)\n",
    "filter_users = filter_users[filter_users].index.tolist()\n",
    "\n",
    "df_filterd = ratings_df[(ratings_df['movieId'].isin(filter_movies)) & (ratings_df['userId'].isin(filter_users))]\n",
    "\n",
    "print('Shape User-Ratings unfiltered:\\t{}'.format(ratings_df.shape))\n",
    "print('Shape User-Ratings filtered:\\t{}'.format(df_filterd.shape))"
   ]
  },
  {
   "cell_type": "code",
   "execution_count": null,
   "metadata": {},
   "outputs": [],
   "source": [
    "from sklearn.model_selection import train_test_split\n",
    "\n",
    "train_df, test_df = train_test_split(df_filterd, test_size=0.3)\n",
    "train_df.shape, test_df.shape"
   ]
  },
  {
   "cell_type": "code",
   "execution_count": null,
   "metadata": {},
   "outputs": [],
   "source": [
    "def EmbeddingRec(EMBEDDING_SIZE, NUM_MOVIES, NUM_USERS, ROW_COUNT):\n",
    "    from keras.layers import Input, Embedding, Dense, Dropout, Flatten, Dot\n",
    "    from keras.models import Model\n",
    "\n",
    "    movie_input = Input(shape=(1,), name='movie_id')\n",
    "\n",
    "    movie_emb = Embedding(output_dim=EMBEDDING_SIZE, input_dim=NUM_MOVIES, input_length=ROW_COUNT, name='movie_emb')(movie_input)\n",
    "    movie_vec = Flatten(name='FlattenMovie')(movie_emb)\n",
    "\n",
    "    movie_model = Model(inputs=movie_input, outputs=movie_vec)\n",
    "    \n",
    "    user_input = Input(shape=(1,), name='user_id')\n",
    "\n",
    "    user_emb = Embedding(output_dim=EMBEDDING_SIZE, input_dim=NUM_USERS, input_length=ROW_COUNT, name='user_emb')(user_input)\n",
    "    user_vec = Flatten(name='FlattenUser')(user_emb)\n",
    "\n",
    "    user_model = Model(inputs=user_input, outputs=user_vec)\n",
    "    \n",
    "    merged = Dot(name = 'dot_product', normalize = True, axes = 2)([movie_emb, user_emb])\n",
    "    merged = Dropout(0.2)(merged)\n",
    "    \n",
    "    \n",
    "    dense_1 = Dense(70,name='FullyConnected-1')(merged)\n",
    "    dropout_1 = Dropout(0.2,name='Dropout_1')(dense_1)\n",
    "\n",
    "    dense_2 = Dense(50,name='FullyConnected-2')(dropout_1)\n",
    "    dropout_2 = Dropout(0.2,name='Dropout_2')(dense_2)\n",
    "\n",
    "    dense_3 = Dense(20,name='FullyConnected-3')(dropout_2)\n",
    "    dropout_3 = Dropout(0.2,name='Dropout_3')(dense_3)\n",
    "\n",
    "    dense_4 = Dense(10,name='FullyConnected-4', activation='relu')(dropout_3)\n",
    "\n",
    "    result = Dense(1, name='result', activation=\"relu\") (dense_4)\n",
    "    model = Model([movie_input, user_input], result)\n",
    "    model.compile(loss='mse', optimizer='adam')\n",
    "    return model, movie_model, user_model"
   ]
  },
  {
   "cell_type": "code",
   "execution_count": null,
   "metadata": {},
   "outputs": [],
   "source": [
    "ROW_COUNT = train_df.shape[0]\n",
    "EMBEDDING_SIZE = 10\n",
    "NUM_USERS = ratings_df['userId'].nunique()\n",
    "NUM_MOVIES = ratings_df['movieId'].nunique()\n",
    "UNIQUE_MOVIE_IDS = ratings_df['movieId'].unique()\n",
    "MOVIE_METADATA = ratings_df.groupby('movieId', as_index=False)[['original_title', 'genres', 'overview']].first()\n",
    "\n",
    "NUM_USERS, NUM_MOVIES, ROW_COUNT"
   ]
  },
  {
   "cell_type": "code",
   "execution_count": null,
   "metadata": {},
   "outputs": [],
   "source": [
    "model, movie_model, user_model = EmbeddingRec(EMBEDDING_SIZE, NUM_MOVIES, NUM_USERS, ROW_COUNT)"
   ]
  },
  {
   "cell_type": "code",
   "execution_count": null,
   "metadata": {},
   "outputs": [],
   "source": [
    "train_df['movieId'].shape, train_df['userId'].shape,train_df['rating'].shape"
   ]
  },
  {
   "cell_type": "code",
   "execution_count": null,
   "metadata": {},
   "outputs": [],
   "source": [
    "test_df['movieId'].shape, test_df['userId'].shape,test_df['rating'].shape\n"
   ]
  },
  {
   "cell_type": "code",
   "execution_count": null,
   "metadata": {},
   "outputs": [],
   "source": [
    "from keras.callbacks import EarlyStopping, ModelCheckpoint\n",
    "callbacks = [EarlyStopping('val_loss', patience=10),\n",
    "             ModelCheckpoint('besttest.h5', save_best_only=True)]\n",
    "\n",
    "history = model.fit([train_df['movieId'], train_df['userId']],\n",
    "          train_df['rating'],\n",
    "          batch_size=256, \n",
    "          epochs=1,\n",
    "          validation_split=0.1,\n",
    "          shuffle=True,\n",
    "          callbacks = callbacks)"
   ]
  },
  {
   "cell_type": "code",
   "execution_count": null,
   "metadata": {},
   "outputs": [],
   "source": [
    "from sklearn.metrics import mean_squared_error\n",
    "\n",
    "y_pred = model.predict([test_df['movieId'], test_df['userId']]).reshape(-1)\n",
    "y_true = test_df['rating'].values\n",
    "\n",
    "#  Compute RMSE\n",
    "rmse = np.sqrt(mean_squared_error(y_pred=y_pred, y_true=y_true))\n",
    "print('\\n\\nTesting Result With Keras Matrix-Factorization: {:.4f} RMSE'.format(rmse))"
   ]
  },
  {
   "cell_type": "code",
   "execution_count": null,
   "metadata": {},
   "outputs": [],
   "source": [
    "tags = [i.split(\", \") for i in df['genres'].unique()]\n",
    "genres = list(set([i for lst in tags for i in lst]))\n",
    "genres.remove('')\n",
    "print(genres)"
   ]
  },
  {
   "cell_type": "code",
   "execution_count": null,
   "metadata": {},
   "outputs": [],
   "source": [
    "for col in genres:\n",
    "    train_df[col] = train_df[\"genres\"].apply(lambda x: 1 if col in x else 0)\n",
    "    test_df[col] = test_df[\"genres\"].apply(lambda x: 1 if col in x else 0)\n",
    "test_df.head()\n"
   ]
  },
  {
   "cell_type": "code",
   "execution_count": null,
   "metadata": {},
   "outputs": [],
   "source": [
    "def get_model3(EMBEDDING_SIZE, NUM_MOVIES, NUM_USERS, ROW_COUNT, NUM_GENRES):\n",
    "    from keras.layers import Input, Embedding, Dense, Dropout, Flatten, Dot, Reshape, Concatenate\n",
    "    from keras.models import Model\n",
    "\n",
    "    movie_input = Input(shape=(1,), name='movie_id')\n",
    "\n",
    "    movie_emb = Embedding(output_dim=EMBEDDING_SIZE, input_dim=NUM_MOVIES, input_length=ROW_COUNT, name='movie_emb')(movie_input)\n",
    "\n",
    "    movie_res = Reshape(target_shape=(EMBEDDING_SIZE,), name='movie_res')(movie_emb)\n",
    "\n",
    "    user_input = Input(shape=(1,), name='user_id')\n",
    "\n",
    "    user_emb = Embedding(output_dim=EMBEDDING_SIZE, input_dim=NUM_USERS, input_length=ROW_COUNT, name='user_emb')(user_input)\n",
    "\n",
    "    user_res = Reshape(target_shape=(EMBEDDING_SIZE,), name='user_res')(user_emb)\n",
    "    \n",
    "    merged = Dot(name = 'dot_product', normalize = True, axes = 1)([movie_res, user_res])\n",
    "\n",
    "    #############################\n",
    "    genres_input = Input(shape=(NUM_GENRES,),name='genres')\n",
    "    dense_gen_1 = Dense(70,name='FullyConnected-gen_1')(genres_input)\n",
    "    dropout_gen_1 = Dropout(0.2,name='Dropout_gen_1')(dense_gen_1)\n",
    "\n",
    "    dense_gen_2 = Dense(50,name='FullyConnected-gen_2')(dropout_gen_1)\n",
    "    dropout_gen_2 = Dropout(0.2,name='Dropout_gen_2')(dense_gen_2)\n",
    "\n",
    "    dense_gen_3 = Dense(20,name='FullyConnected-gen_3')(dropout_gen_2)\n",
    "    dropout_gen_3 = Dropout(0.2,name='Dropout_gen_3')(dense_gen_3)\n",
    "\n",
    "    dense_gen_4 = Dense(10,name='FullyConnected-gen_4', activation='relu')(dropout_gen_3)\n",
    "    #############################\n",
    "\n",
    "    merged = Dropout(0.2)(merged)\n",
    "    \n",
    "    dense_1 = Dense(70,name='FullyConnected-1')(merged)\n",
    "    dropout_1 = Dropout(0.2,name='Dropout_1')(dense_1)\n",
    "\n",
    "    dense_2 = Dense(50,name='FullyConnected-2')(dropout_1)\n",
    "    dropout_2 = Dropout(0.2,name='Dropout_2')(dense_2)\n",
    "\n",
    "    dense_3 = Dense(20,name='FullyConnected-3')(dropout_2)\n",
    "    dropout_3 = Dropout(0.2,name='Dropout_3')(dense_3)\n",
    "\n",
    "    dense_4 = Dense(10,name='FullyConnected-4', activation='relu')(dropout_3)\n",
    "\n",
    "    concat = Concatenate()([dense_4, dense_gen_4])\n",
    "\n",
    "    result = Dense(1, name='result', activation=\"relu\") (concat)\n",
    "    model = Model([movie_input, user_input, genres_input], result)\n",
    "    model.compile(loss='mse', optimizer='adam')\n",
    "    return model"
   ]
  },
  {
   "cell_type": "code",
   "execution_count": null,
   "metadata": {},
   "outputs": [],
   "source": [
    "model = get_model3(EMBEDDING_SIZE, NUM_MOVIES, NUM_USERS, ROW_COUNT, len(genres))"
   ]
  },
  {
   "cell_type": "code",
   "execution_count": null,
   "metadata": {},
   "outputs": [],
   "source": [
    "history = model.fit([train_df['movieId'], train_df['userId'], train_df[genres]],\n",
    "          train_df['rating'],\n",
    "          batch_size=2048, \n",
    "          epochs=20,\n",
    "          validation_split=0.1,\n",
    "          shuffle=True,\n",
    "          callbacks = callbacks)"
   ]
  },
  {
   "cell_type": "code",
   "execution_count": null,
   "metadata": {},
   "outputs": [],
   "source": [
    "y_pred = model.predict([test_df['movieId'], test_df['userId'], test_df[genres]]).reshape(-1)\n",
    "y_true = test_df['rating'].values\n",
    "\n",
    "#  Compute RMSE\n",
    "rmse = np.sqrt(mean_squared_error(y_pred=y_pred, y_true=y_true))\n",
    "print('\\n\\nTesting Result With Keras Matrix-Factorization: {:.4f} RMSE'.format(rmse))"
   ]
  },
  {
   "cell_type": "code",
   "execution_count": null,
   "metadata": {},
   "outputs": [],
   "source": [
    "import matplotlib.pyplot as plt\n",
    "\n",
    "# Get training and test loss histories\n",
    "training_loss = history.history['loss']\n",
    "test_loss = history.history['val_loss']\n",
    "\n",
    "# Create count of the number of epochs\n",
    "epoch_count = range(1, len(training_loss) + 1)\n",
    "\n",
    "# Visualize loss history\n",
    "plt.figure(figsize = (8,4))\n",
    "plt.plot(epoch_count, training_loss, 'r--')\n",
    "plt.plot(epoch_count, test_loss, 'b-')\n",
    "plt.legend(['Training Loss', 'Test Loss'])\n",
    "plt.xlabel('Epoch')\n",
    "plt.ylabel('Loss')\n",
    "plt.show()"
   ]
  },
  {
   "cell_type": "code",
   "execution_count": null,
   "metadata": {},
   "outputs": [],
   "source": [
    "history.history"
   ]
  },
  {
   "cell_type": "code",
   "execution_count": null,
   "metadata": {},
   "outputs": [],
   "source": [
    "from sklearn.feature_extraction.text import TfidfVectorizer\n",
    "\n",
    "tfidf = TfidfVectorizer(stop_words='english', max_features=10)\n",
    "df_filterd['overview'] = df_filterd['overview'].str.lower()\n",
    "tfidf_hybrid = tfidf.fit_transform(df_filterd['overview'])"
   ]
  },
  {
   "cell_type": "code",
   "execution_count": null,
   "metadata": {},
   "outputs": [],
   "source": [
    "tfidf_hybrid.shape, df_filterd.shape"
   ]
  },
  {
   "cell_type": "code",
   "execution_count": null,
   "metadata": {},
   "outputs": [],
   "source": [
    "mapping = {id:i for i, id in enumerate(df_filterd['movieId'])}\n",
    "tfidf_hybrid_array = tfidf_hybrid.toarray()\n",
    "\n",
    "train_tfidf = []\n",
    "# Iterate over all movie-ids and save the tfidf-vector\n",
    "for id in train_df['movieId'].values:\n",
    "    index = mapping[id]\n",
    "    train_tfidf.append(tfidf_hybrid_array[index])\n",
    "    \n",
    "test_tfidf = []\n",
    "# Iterate over all movie-ids and save the tfidf-vector\n",
    "for id in test_df['movieId'].values:\n",
    "    index = mapping[id]\n",
    "    test_tfidf.append(tfidf_hybrid_array[index])"
   ]
  },
  {
   "cell_type": "code",
   "execution_count": null,
   "metadata": {},
   "outputs": [],
   "source": [
    "train_tfidf = np.vstack(train_tfidf)\n",
    "test_tfidf = np.vstack(test_tfidf)"
   ]
  },
  {
   "cell_type": "code",
   "execution_count": null,
   "metadata": {},
   "outputs": [],
   "source": [
    "train_tfidf.shape, test_tfidf.shape"
   ]
  },
  {
   "cell_type": "code",
   "execution_count": null,
   "metadata": {},
   "outputs": [],
   "source": [
    "def get_model4(EMBEDDING_SIZE, NUM_MOVIES, NUM_USERS, ROW_COUNT, NUM_GENRES):\n",
    "    from keras.layers import Input, Embedding, Dense, Dropout, Flatten, Dot, Reshape, Concatenate\n",
    "    from keras.models import Model\n",
    "\n",
    "    movie_input = Input(shape=(1,), name='movie_id')\n",
    "\n",
    "    movie_emb = Embedding(output_dim=EMBEDDING_SIZE, input_dim=NUM_MOVIES, input_length=ROW_COUNT, name='movie_emb')(movie_input)\n",
    "\n",
    "    movie_res = Reshape(target_shape=(EMBEDDING_SIZE,), name='movie_res')(movie_emb)\n",
    "\n",
    "    user_input = Input(shape=(1,), name='user_id')\n",
    "\n",
    "    user_emb = Embedding(output_dim=EMBEDDING_SIZE, input_dim=NUM_USERS, input_length=ROW_COUNT, name='user_emb')(user_input)\n",
    "\n",
    "    user_res = Reshape(target_shape=(EMBEDDING_SIZE,), name='user_res')(user_emb)\n",
    "    \n",
    "    merged = Dot(name = 'dot_product', normalize = True, axes = 1)([movie_res, user_res])\n",
    "\n",
    "    #############################\n",
    "\n",
    "    tfidf_input = Input(shape=(10,), name='tfidf', sparse=True)\n",
    "    dense_tfidf_1 = Dense(70,name='FullyConnected-tfidf_1')(tfidf_input)\n",
    "    dropout_tfidf_1 = Dropout(0.2,name='Dropout_tfidf_1')(dense_tfidf_1)\n",
    "\n",
    "    dense_tfidf_2 = Dense(50,name='FullyConnected-tfidf_2')(dropout_tfidf_1)\n",
    "    dropout_tfidf_2 = Dropout(0.2,name='Dropout_tfidf_2')(dense_tfidf_2)\n",
    "\n",
    "    dense_tfidf_3 = Dense(20,name='FullyConnected-tfidf_3')(dropout_tfidf_2)\n",
    "    dropout_tfidf_3 = Dropout(0.2,name='Dropout_tfidf_3')(dense_tfidf_3)\n",
    "\n",
    "    dense_tfidf_4 = Dense(10,name='FullyConnected-tfidf_4', activation='relu')(dropout_tfidf_3)\n",
    "\n",
    "    #############################\n",
    "    genres_input = Input(shape=(NUM_GENRES,),name='genres')\n",
    "    dense_gen_1 = Dense(70,name='FullyConnected-gen_1')(genres_input)\n",
    "    dropout_gen_1 = Dropout(0.2,name='Dropout_gen_1')(dense_gen_1)\n",
    "\n",
    "    dense_gen_2 = Dense(50,name='FullyConnected-gen_2')(dropout_gen_1)\n",
    "    dropout_gen_2 = Dropout(0.2,name='Dropout_gen_2')(dense_gen_2)\n",
    "\n",
    "    dense_gen_3 = Dense(20,name='FullyConnected-gen_3')(dropout_gen_2)\n",
    "    dropout_gen_3 = Dropout(0.2,name='Dropout_gen_3')(dense_gen_3)\n",
    "\n",
    "    dense_gen_4 = Dense(10,name='FullyConnected-gen_4', activation='relu')(dropout_gen_3)\n",
    "    #############################\n",
    "\n",
    "    merged = Dropout(0.2)(merged)\n",
    "    \n",
    "    dense_1 = Dense(70,name='FullyConnected-1')(merged)\n",
    "    dropout_1 = Dropout(0.2,name='Dropout_1')(dense_1)\n",
    "\n",
    "    dense_2 = Dense(50,name='FullyConnected-2')(dropout_1)\n",
    "    dropout_2 = Dropout(0.2,name='Dropout_2')(dense_2)\n",
    "\n",
    "    dense_3 = Dense(20,name='FullyConnected-3')(dropout_2)\n",
    "    dropout_3 = Dropout(0.2,name='Dropout_3')(dense_3)\n",
    "\n",
    "    dense_4 = Dense(10,name='FullyConnected-4', activation='relu')(dropout_3)\n",
    "\n",
    "    concat = Concatenate()([dense_4, dense_gen_4, dense_tfidf_4])\n",
    "\n",
    "    result = Dense(1, name='result', activation=\"relu\") (concat)\n",
    "    model = Model([movie_input, user_input, genres_input, tfidf_input], result)\n",
    "    model.compile(loss='mse', optimizer='adam')\n",
    "    return model"
   ]
  },
  {
   "cell_type": "code",
   "execution_count": null,
   "metadata": {},
   "outputs": [],
   "source": [
    "model = get_model4(EMBEDDING_SIZE, NUM_MOVIES, NUM_USERS, ROW_COUNT, len(genres))"
   ]
  },
  {
   "cell_type": "code",
   "execution_count": null,
   "metadata": {},
   "outputs": [],
   "source": [
    "history = model.fit([train_df['movieId'], train_df['userId'], train_df[genres], train_tfidf],\n",
    "          train_df['rating'],\n",
    "          batch_size=2048, \n",
    "          epochs=20,\n",
    "          validation_split=0.1,\n",
    "          shuffle=True,\n",
    "          callbacks = callbacks)"
   ]
  },
  {
   "cell_type": "code",
   "execution_count": null,
   "metadata": {},
   "outputs": [],
   "source": [
    "y_pred = model.predict([test_df['movieId'], test_df['userId'], test_df[genres], test_tfidf]).reshape(-1)\n",
    "y_true = test_df['rating'].values\n",
    "\n",
    "#  Compute RMSE\n",
    "rmse = np.sqrt(mean_squared_error(y_pred=y_pred, y_true=y_true))\n",
    "print('\\n\\nTesting Result With Keras Matrix-Factorization: {:.4f} RMSE'.format(rmse))"
   ]
  },
  {
   "cell_type": "code",
   "execution_count": null,
   "metadata": {},
   "outputs": [],
   "source": [
    "import matplotlib.pyplot as plt\n",
    "\n",
    "# Get training and test loss histories\n",
    "training_loss = history.history['loss']\n",
    "test_loss = history.history['val_loss']\n",
    "\n",
    "# Create count of the number of epochs\n",
    "epoch_count = range(1, len(training_loss) + 1)\n",
    "\n",
    "# Visualize loss history\n",
    "plt.figure(figsize = (8,4))\n",
    "plt.plot(epoch_count, training_loss, 'r--')\n",
    "plt.plot(epoch_count, test_loss, 'b-')\n",
    "plt.legend(['Training Loss', 'Test Loss'])\n",
    "plt.xlabel('Epoch')\n",
    "plt.ylabel('Loss')\n",
    "plt.show()"
   ]
  }
 ],
 "metadata": {
  "kernelspec": {
   "display_name": "Python 3.9.12 ('base')",
   "language": "python",
   "name": "python3"
  },
  "language_info": {
   "codemirror_mode": {
    "name": "ipython",
    "version": 3
   },
   "file_extension": ".py",
   "mimetype": "text/x-python",
   "name": "python",
   "nbconvert_exporter": "python",
   "pygments_lexer": "ipython3",
   "version": "3.9.12"
  },
  "orig_nbformat": 4,
  "vscode": {
   "interpreter": {
    "hash": "4ea9071744ae0963820ecdfe285aa7f09c6d3665a6b4ee8f59c95aa319514e37"
   }
  }
 },
 "nbformat": 4,
 "nbformat_minor": 2
}
